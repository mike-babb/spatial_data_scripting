{
 "cells": [
  {
   "cell_type": "code",
   "execution_count": null,
   "metadata": {},
   "outputs": [],
   "source": [
    "# compute the adjacency of census tracts in Washington\n",
    "# 2020 05 28"
   ]
  },
  {
   "cell_type": "code",
   "execution_count": null,
   "metadata": {},
   "outputs": [],
   "source": [
    "# standard libraries\n",
    "import os\n",
    "from itertools import product\n",
    "from time import time"
   ]
  },
  {
   "cell_type": "code",
   "execution_count": null,
   "metadata": {},
   "outputs": [],
   "source": [
    "# external\n",
    "import pandas as pd\n",
    "import geopandas as gpd # for reading spatial data\n",
    "import descartes # for plotting\n",
    "from shapely.geometry import polygon\n",
    "import networkx as nx"
   ]
  },
  {
   "cell_type": "code",
   "execution_count": null,
   "metadata": {},
   "outputs": [],
   "source": [
    "file_path = 'H:/git/spatial_data_scripting/data'"
   ]
  },
  {
   "cell_type": "code",
   "execution_count": null,
   "metadata": {},
   "outputs": [],
   "source": [
    "file_name = 'tl_2019_53_tract.shp'"
   ]
  },
  {
   "cell_type": "code",
   "execution_count": null,
   "metadata": {},
   "outputs": [],
   "source": [
    "fpn = os.path.join(file_path, file_name)"
   ]
  },
  {
   "cell_type": "code",
   "execution_count": null,
   "metadata": {},
   "outputs": [],
   "source": [
    "gdf = gpd.read_file(filename=fpn)"
   ]
  },
  {
   "cell_type": "code",
   "execution_count": null,
   "metadata": {},
   "outputs": [],
   "source": [
    "gdf.head()"
   ]
  },
  {
   "cell_type": "code",
   "execution_count": null,
   "metadata": {},
   "outputs": [],
   "source": [
    "# produce a quick plot of the tracts, just to check\n",
    "gdf.plot()"
   ]
  },
  {
   "cell_type": "code",
   "execution_count": null,
   "metadata": {},
   "outputs": [],
   "source": [
    "# we need a quick way to enumerate the tracts and some python objects have \n",
    "# more quick data access methods. \n",
    "# like a dictionary. \n",
    "# all that we need in the dictionary is the tract id and the geometry"
   ]
  },
  {
   "cell_type": "code",
   "execution_count": null,
   "metadata": {},
   "outputs": [],
   "source": [
    "# let's create a simple function to load the dictionary"
   ]
  },
  {
   "cell_type": "code",
   "execution_count": null,
   "metadata": {},
   "outputs": [],
   "source": [
    "geom_dict = {}\n",
    "for index, row in gdf.iterrows():\n",
    "    geom_dict[row['GEOID']] = row['geometry']"
   ]
  },
  {
   "cell_type": "code",
   "execution_count": null,
   "metadata": {},
   "outputs": [],
   "source": [
    "len(geom_dict)"
   ]
  },
  {
   "cell_type": "code",
   "execution_count": null,
   "metadata": {},
   "outputs": [],
   "source": [
    "len(gdf)"
   ]
  },
  {
   "cell_type": "code",
   "execution_count": null,
   "metadata": {},
   "outputs": [],
   "source": [
    "#now, we'll use the product function to compute the list of all tracts crossed by all tracts\n",
    "# https://docs.python.org/3.8/library/itertools.html#itertools.product"
   ]
  },
  {
   "cell_type": "code",
   "execution_count": null,
   "metadata": {},
   "outputs": [],
   "source": [
    "tract_list = list(geom_dict.keys())"
   ]
  },
  {
   "cell_type": "code",
   "execution_count": null,
   "metadata": {},
   "outputs": [],
   "source": [
    "# let's use a dictionary to store the output\n",
    "# the keys to the dictionary will by the tuple (tract a, tract b)\n",
    "# the value for each key will be a 1 or a 0\n",
    "# 1: the two tracts are adjacent\n",
    "# 0: the two tracts are not adjacent\n",
    "# once we have determined the adjacency of tract a to tract b,\n",
    "# we know the adjacency of tract b to tract b.\n",
    "# this will dramatically reduce the number of comparisons we need to make"
   ]
  },
  {
   "cell_type": "code",
   "execution_count": null,
   "metadata": {},
   "outputs": [],
   "source": [
    "n_tracts = len(tract_list)"
   ]
  },
  {
   "cell_type": "code",
   "execution_count": null,
   "metadata": {},
   "outputs": [],
   "source": [
    "# what is the upper bound of the number of adjacency comparisons we could make?\n",
    "n_tracts * n_tracts"
   ]
  },
  {
   "cell_type": "code",
   "execution_count": null,
   "metadata": {},
   "outputs": [],
   "source": [
    "# but if we store the adjacency of tract a to tract b and tract b to tract a\n",
    "# we reduce the number of adjacency comparisons at each step.\n",
    "# for example, the first tract will be compared against 1458 tracts\n",
    "# the second tract will be compared against 1457 tracts\n",
    "# the third tract will be compared against 1456 tracts.\n",
    "(n_tracts*(n_tracts + 1)) / 2"
   ]
  },
  {
   "cell_type": "code",
   "execution_count": null,
   "metadata": {},
   "outputs": [],
   "source": [
    "s_time = time()\n",
    "output_dict = {}\n",
    "loop_count = 0\n",
    "for tract_tuple in product(tract_list, tract_list):    \n",
    "    if tract_tuple not in output_dict:\n",
    "        tract_a = tract_tuple[0]\n",
    "        tract_b = tract_tuple[1]\n",
    "        tract_a_geo = geom_dict[tract_a]\n",
    "        tract_b_geo = geom_dict[tract_b]\n",
    "        adjacency_status = 0\n",
    "        if tract_a_geo.intersects(tract_b_geo):\n",
    "            adjacency_status = 1\n",
    "            \n",
    "        output_dict[tract_tuple] = adjacency_status         \n",
    "        # reverse the tuple\n",
    "        tract_tuple_rev = (tract_b, tract_a)\n",
    "        output_dict[tract_tuple_rev] = adjacency_status\n",
    "    \n",
    "    loop_count += 1\n",
    "    if loop_count % 10000 == 0:\n",
    "        print(loop_count)\n",
    "e_time = time()\n",
    "print(loop_count)"
   ]
  },
  {
   "cell_type": "code",
   "execution_count": null,
   "metadata": {},
   "outputs": [],
   "source": [
    "p_time = e_time - s_time"
   ]
  },
  {
   "cell_type": "code",
   "execution_count": null,
   "metadata": {},
   "outputs": [],
   "source": [
    "print(round(p_time, 2), 'seconds')"
   ]
  },
  {
   "cell_type": "code",
   "execution_count": null,
   "metadata": {},
   "outputs": [],
   "source": [
    "# not bad...\n",
    "# let's store the adjacency\n",
    "adj_df = pd.DataFrame.from_dict(data=output_dict, orient='index', columns=['adjacency'])"
   ]
  },
  {
   "cell_type": "code",
   "execution_count": null,
   "metadata": {},
   "outputs": [],
   "source": [
    "adj_df.head()"
   ]
  },
  {
   "cell_type": "code",
   "execution_count": null,
   "metadata": {},
   "outputs": [],
   "source": [
    "len(adj_df)"
   ]
  },
  {
   "cell_type": "code",
   "execution_count": null,
   "metadata": {},
   "outputs": [],
   "source": [
    "adj_df['adjacency'].sum()"
   ]
  },
  {
   "cell_type": "code",
   "execution_count": null,
   "metadata": {},
   "outputs": [],
   "source": [
    "10338 / 2125764"
   ]
  },
  {
   "cell_type": "code",
   "execution_count": null,
   "metadata": {},
   "outputs": [],
   "source": [
    "adj_df = adj_df.loc[adj_df['adjacency']==1, :]"
   ]
  },
  {
   "cell_type": "code",
   "execution_count": null,
   "metadata": {},
   "outputs": [],
   "source": [
    "# reindex"
   ]
  },
  {
   "cell_type": "code",
   "execution_count": null,
   "metadata": {},
   "outputs": [],
   "source": [
    "adj_df = adj_df.reset_index()"
   ]
  },
  {
   "cell_type": "code",
   "execution_count": null,
   "metadata": {},
   "outputs": [],
   "source": [
    "adj_df.head()"
   ]
  },
  {
   "cell_type": "code",
   "execution_count": null,
   "metadata": {},
   "outputs": [],
   "source": [
    "edge_set = set()\n",
    "for index, row in adj_df.iterrows():\n",
    "    tract_tuple = row['index']\n",
    "    tract_tuple = tuple(sorted(tract_tuple))\n",
    "    edge_set.add(tract_tuple)    "
   ]
  },
  {
   "cell_type": "code",
   "execution_count": null,
   "metadata": {},
   "outputs": [],
   "source": [
    "len(adj_df)"
   ]
  },
  {
   "cell_type": "code",
   "execution_count": null,
   "metadata": {},
   "outputs": [],
   "source": [
    "adj_df = adj_df.loc[adj_df['index'].isin(edge_set), :]"
   ]
  },
  {
   "cell_type": "code",
   "execution_count": null,
   "metadata": {},
   "outputs": [],
   "source": [
    "len(adj_df)"
   ]
  },
  {
   "cell_type": "code",
   "execution_count": null,
   "metadata": {},
   "outputs": [],
   "source": [
    "# extract the tuple by using the zip command\n",
    "adj_df['tract_a'], adj_df['tract_b'] = zip(*adj_df['index'])"
   ]
  },
  {
   "cell_type": "code",
   "execution_count": null,
   "metadata": {},
   "outputs": [],
   "source": [
    "adj_df.head()"
   ]
  },
  {
   "cell_type": "code",
   "execution_count": null,
   "metadata": {},
   "outputs": [],
   "source": [
    "# select columns\n",
    "col_names = ['tract_a', 'tract_b', 'adjacency']"
   ]
  },
  {
   "cell_type": "code",
   "execution_count": null,
   "metadata": {},
   "outputs": [],
   "source": [
    "adj_df = adj_df[col_names]"
   ]
  },
  {
   "cell_type": "code",
   "execution_count": null,
   "metadata": {},
   "outputs": [],
   "source": [
    "adj_df.head()"
   ]
  },
  {
   "cell_type": "code",
   "execution_count": null,
   "metadata": {},
   "outputs": [],
   "source": [
    "len(adj_df)"
   ]
  },
  {
   "cell_type": "code",
   "execution_count": null,
   "metadata": {},
   "outputs": [],
   "source": [
    "# how many adjacent instances are there?\n",
    "adj_df['adjacency'].sum()"
   ]
  },
  {
   "cell_type": "code",
   "execution_count": null,
   "metadata": {},
   "outputs": [],
   "source": [
    "# write it out to a csv\n",
    "output_file_name = 'wa_tract_adjacency.csv'"
   ]
  },
  {
   "cell_type": "code",
   "execution_count": null,
   "metadata": {},
   "outputs": [],
   "source": [
    "ofpn = os.path.join(file_path, output_file_name)"
   ]
  },
  {
   "cell_type": "code",
   "execution_count": null,
   "metadata": {},
   "outputs": [],
   "source": [
    "adj_df.to_csv(path_or_buf=ofpn, sep='\\t', index=False)"
   ]
  },
  {
   "cell_type": "code",
   "execution_count": null,
   "metadata": {},
   "outputs": [],
   "source": []
  }
 ],
 "metadata": {
  "kernelspec": {
   "display_name": "Python 3.7.6 64-bit ('analysis': conda)",
   "language": "python",
   "name": "python37664bitanalysisconda9de0f707a5a443ea87ec25563936da81"
  },
  "language_info": {
   "codemirror_mode": {
    "name": "ipython",
    "version": 3
   },
   "file_extension": ".py",
   "mimetype": "text/x-python",
   "name": "python",
   "nbconvert_exporter": "python",
   "pygments_lexer": "ipython3",
   "version": "3.7.6"
  }
 },
 "nbformat": 4,
 "nbformat_minor": 4
}
